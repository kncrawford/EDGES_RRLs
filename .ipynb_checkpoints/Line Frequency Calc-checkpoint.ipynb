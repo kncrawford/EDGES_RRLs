{
 "cells": [
  {
   "cell_type": "code",
   "execution_count": 44,
   "metadata": {
    "collapsed": false
   },
   "outputs": [
    {
     "name": "stderr",
     "output_type": "stream",
     "text": [
      "WARNING: Constant 'Hydrogen mass' is already has a definition in the 'si' system [astropy.constants.constant]\n",
      "WARNING: Constant 'Helium mass' is already has a definition in the 'si' system [astropy.constants.constant]\n"
     ]
    }
   ],
   "source": [
    "import numpy as np\n",
    "from astropy import constants as const\n",
    "\n",
    "\n",
    "'''\n",
    "Z = effective nuclear charge (Lilley 1968); atomic number/number or protons in nucleus\n",
    "\n",
    "n_f = principal quantum number of final state\n",
    "\n",
    "n_i = principal quantum number of initial state\n",
    "\n",
    "nu = line frequency\n",
    "'''\n",
    "\n",
    "\n",
    "# Hydrogen mass\n",
    "m_H = Constant('m_H', \"Hydrogen mass\", 1.6737236e-27, 'kg', 0.000016605e-27, 'google', system='si')\n",
    "\n",
    "#Helium mass\n",
    "m_He = Constant('m_He', \"Helium mass\", 6.6464764e-27, 'kg', 3.3210778e-33, 'google', system='si')\n",
    "\n",
    "\n",
    "\n",
    "# for hydrogen-like elements only\n",
    "# where element ionized so only has one electron\n",
    "\n",
    "def line_freq(Z, R, n, delta_n):\n",
    "    return (Z**2) * R * const.c * ((1/n)**2 - (1/(n + delta_n))**2)\n",
    "\n",
    "def apt_Ryd(m_emit):\n",
    "    return const.Ryd * (1. - (const.m_e / m_emit))\n"
   ]
  },
  {
   "cell_type": "code",
   "execution_count": 46,
   "metadata": {
    "collapsed": false
   },
   "outputs": [
    {
     "data": {
      "text/plain": [
       "'for n in range(len(number)):\\n    number[n] = int(number[n])\\n    print(nu)'"
      ]
     },
     "execution_count": 46,
     "metadata": {},
     "output_type": "execute_result"
    }
   ],
   "source": [
    "# number = [139, 318, 564, 739]\n",
    "\n",
    "R = apt_Ryd(m_emit)\n",
    "\n",
    "delta_n = 1.0\n",
    "\n",
    "\n",
    "# don't know python well enough to figure out how to loop it\n",
    "# extremely crude way of doing this\n",
    "\n",
    "# for Hydrogen\n",
    "m_emit = m_H\n",
    "Z = 1.\n",
    "\n",
    "\n",
    "'''for n in range(len(number)):\n",
    "    number[n] = int(number[n])\n",
    "    print(nu)'''"
   ]
  },
  {
   "cell_type": "code",
   "execution_count": 50,
   "metadata": {
    "collapsed": false
   },
   "outputs": [
    {
     "name": "stdout",
     "output_type": "stream",
     "text": [
      "203638094.81530994 1 / s\n"
     ]
    }
   ],
   "source": [
    "n = 318\n",
    "\n",
    "nu = line_freq(Z, R, n, delta_n)\n",
    "\n",
    "print(nu)"
   ]
  },
  {
   "cell_type": "code",
   "execution_count": null,
   "metadata": {
    "collapsed": true
   },
   "outputs": [],
   "source": []
  }
 ],
 "metadata": {
  "anaconda-cloud": {},
  "kernelspec": {
   "display_name": "Python [default]",
   "language": "python",
   "name": "python3"
  },
  "language_info": {
   "codemirror_mode": {
    "name": "ipython",
    "version": 3
   },
   "file_extension": ".py",
   "mimetype": "text/x-python",
   "name": "python",
   "nbconvert_exporter": "python",
   "pygments_lexer": "ipython3",
   "version": "3.5.2"
  }
 },
 "nbformat": 4,
 "nbformat_minor": 1
}
