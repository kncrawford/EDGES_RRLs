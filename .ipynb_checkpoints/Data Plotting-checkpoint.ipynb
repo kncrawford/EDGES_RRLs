{
 "cells": [
  {
   "cell_type": "code",
   "execution_count": 62,
   "metadata": {
    "collapsed": true
   },
   "outputs": [],
   "source": [
    "import numpy as np\n",
    "from numpy import rec\n",
    "import matplotlib.pyplot as plt\n",
    "from astropy.io import fits"
   ]
  },
  {
   "cell_type": "code",
   "execution_count": 61,
   "metadata": {
    "collapsed": false
   },
   "outputs": [
    {
     "name": "stdout",
     "output_type": "stream",
     "text": [
      "Filename: /Users/kelsiecrawford/Downloads/lambda_halpha_fwhm06_0512.fits\n",
      "No.    Name         Type      Cards   Dimensions   Format\n",
      "0    PRIMARY     PrimaryHDU      60   ()              \n",
      "1    H-alpha intensity  BinTableHDU     28   3145728R x 1C   [E]   \n"
     ]
    },
    {
     "data": {
      "text/plain": [
       "'record32'"
      ]
     },
     "execution_count": 61,
     "metadata": {},
     "output_type": "execute_result"
    }
   ],
   "source": [
    "hdulist = fits.open('/Users/kelsiecrawford/Downloads/lambda_halpha_fwhm06_0512.fits')\n",
    "hdulist.info()\n",
    "hdu = hdulist[1]\n",
    "hdu.data\n",
    "hdu.header\n",
    "\n",
    "scidata = hdulist[1].data\n",
    "scidata.dtype.name\n",
    "\n",
    "#plt.imshow(scidata[], origin='lower')"
   ]
  },
  {
   "cell_type": "code",
   "execution_count": 72,
   "metadata": {
    "collapsed": false
   },
   "outputs": [
    {
     "data": {
      "text/plain": [
       "<generator object Header.__iter__ at 0x1124ae258>"
      ]
     },
     "execution_count": 72,
     "metadata": {},
     "output_type": "execute_result"
    }
   ],
   "source": [
    "f = fits.open('/Users/kelsiecrawford/Downloads/lambda_halpha_fwhm06_0512.fits')\n",
    "f[1].data\n",
    "f[1].header.keys()\n"
   ]
  },
  {
   "cell_type": "code",
   "execution_count": null,
   "metadata": {
    "collapsed": true
   },
   "outputs": [],
   "source": []
  }
 ],
 "metadata": {
  "anaconda-cloud": {},
  "kernelspec": {
   "display_name": "Python [default]",
   "language": "python",
   "name": "python3"
  },
  "language_info": {
   "codemirror_mode": {
    "name": "ipython",
    "version": 3
   },
   "file_extension": ".py",
   "mimetype": "text/x-python",
   "name": "python",
   "nbconvert_exporter": "python",
   "pygments_lexer": "ipython3",
   "version": "3.5.2"
  }
 },
 "nbformat": 4,
 "nbformat_minor": 1
}
